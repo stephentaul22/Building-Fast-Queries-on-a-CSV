{
 "cells": [
  {
   "cell_type": "markdown",
   "metadata": {},
   "source": [
    "# Building Fast Queries on a CSV\n",
    "\n",
    "Optimizing an algorithm's performance is a useful endeavor.\n",
    "\n",
    "## Goal:\n",
    "\n",
    "In this project, I will demonstrate the use of data preprocessing and understanding time complexity.\n",
    "\n",
    "I will assume that I am working for a company that sells laptops, and I will perform the following tasks:\n",
    "\n",
    "### Tasks:\n",
    "\n",
    "* Retrieve a laptop from an inventory list using only it's ID Number.\n",
    "* Determine if a promotional offer equals the cost of one or two laptops in the inventory.\n",
    "* Determine the most expensive laptop a customer can afford, given a budget of $D$ dollars.\n",
    "\n",
    "I will use [this laptop dataset here](https://www.kaggle.com/ionaskel/laptop-prices) to complete these tasks."
   ]
  },
  {
   "cell_type": "markdown",
   "metadata": {},
   "source": [
    "## Introducing the Data"
   ]
  },
  {
   "cell_type": "code",
   "execution_count": 1,
   "metadata": {},
   "outputs": [],
   "source": [
    "import csv\n",
    "import chardet\n",
    "import time\n",
    "import random"
   ]
  },
  {
   "cell_type": "code",
   "execution_count": 2,
   "metadata": {},
   "outputs": [
    {
     "data": {
      "text/plain": [
       "{'encoding': 'ISO-8859-1', 'confidence': 0.73, 'language': ''}"
      ]
     },
     "execution_count": 2,
     "metadata": {},
     "output_type": "execute_result"
    }
   ],
   "source": [
    "# Checking the encoding\n",
    "\n",
    "with open('laptops.csv', mode ='rb') as file:\n",
    "    raw_bytes = file.read()\n",
    "\n",
    "chardet.detect(raw_bytes)"
   ]
  },
  {
   "cell_type": "markdown",
   "metadata": {},
   "source": [
    "The encoding is not UTF."
   ]
  },
  {
   "cell_type": "code",
   "execution_count": 3,
   "metadata": {},
   "outputs": [],
   "source": [
    "# Opening the file\n",
    "with open('laptops.csv', encoding='ISO-8859-1') as file: \n",
    "    laptops = list(csv.reader(file))"
   ]
  },
  {
   "cell_type": "code",
   "execution_count": 4,
   "metadata": {},
   "outputs": [
    {
     "data": {
      "text/plain": [
       "['',\n",
       " 'Company',\n",
       " 'Product',\n",
       " 'TypeName',\n",
       " 'Inches',\n",
       " 'ScreenResolution',\n",
       " 'Cpu',\n",
       " 'Ram',\n",
       " 'Memory',\n",
       " 'Gpu',\n",
       " 'OpSys',\n",
       " 'Weight',\n",
       " 'Price_euros']"
      ]
     },
     "execution_count": 4,
     "metadata": {},
     "output_type": "execute_result"
    }
   ],
   "source": [
    "# Viewing the first row\n",
    "laptops[0]"
   ]
  },
  {
   "cell_type": "code",
   "execution_count": 5,
   "metadata": {},
   "outputs": [
    {
     "data": {
      "text/plain": [
       "[['1',\n",
       "  'Apple',\n",
       "  'MacBook Pro',\n",
       "  'Ultrabook',\n",
       "  '13.3',\n",
       "  'IPS Panel Retina Display 2560x1600',\n",
       "  'Intel Core i5 2.3GHz',\n",
       "  '8GB',\n",
       "  '128GB SSD',\n",
       "  'Intel Iris Plus Graphics 640',\n",
       "  'macOS',\n",
       "  '1.37kg',\n",
       "  '1339.69'],\n",
       " ['2',\n",
       "  'Apple',\n",
       "  'Macbook Air',\n",
       "  'Ultrabook',\n",
       "  '13.3',\n",
       "  '1440x900',\n",
       "  'Intel Core i5 1.8GHz',\n",
       "  '8GB',\n",
       "  '128GB Flash Storage',\n",
       "  'Intel HD Graphics 6000',\n",
       "  'macOS',\n",
       "  '1.34kg',\n",
       "  '898.94'],\n",
       " ['3',\n",
       "  'HP',\n",
       "  '250 G6',\n",
       "  'Notebook',\n",
       "  '15.6',\n",
       "  'Full HD 1920x1080',\n",
       "  'Intel Core i5 7200U 2.5GHz',\n",
       "  '8GB',\n",
       "  '256GB SSD',\n",
       "  'Intel HD Graphics 620',\n",
       "  'No OS',\n",
       "  '1.86kg',\n",
       "  '575.00'],\n",
       " ['4',\n",
       "  'Apple',\n",
       "  'MacBook Pro',\n",
       "  'Ultrabook',\n",
       "  '15.4',\n",
       "  'IPS Panel Retina Display 2880x1800',\n",
       "  'Intel Core i7 2.7GHz',\n",
       "  '16GB',\n",
       "  '512GB SSD',\n",
       "  'AMD Radeon Pro 455',\n",
       "  'macOS',\n",
       "  '1.83kg',\n",
       "  '2537.45'],\n",
       " ['5',\n",
       "  'Apple',\n",
       "  'MacBook Pro',\n",
       "  'Ultrabook',\n",
       "  '13.3',\n",
       "  'IPS Panel Retina Display 2560x1600',\n",
       "  'Intel Core i5 3.1GHz',\n",
       "  '8GB',\n",
       "  '256GB SSD',\n",
       "  'Intel Iris Plus Graphics 650',\n",
       "  'macOS',\n",
       "  '1.37kg',\n",
       "  '1803.60']]"
      ]
     },
     "execution_count": 5,
     "metadata": {},
     "output_type": "execute_result"
    }
   ],
   "source": [
    "# Viewing the next five rows\n",
    "laptops[1:6]"
   ]
  },
  {
   "cell_type": "code",
   "execution_count": 6,
   "metadata": {},
   "outputs": [
    {
     "name": "stdout",
     "output_type": "stream",
     "text": [
      "<class 'str'>\n",
      "<class 'str'>\n",
      "<class 'str'>\n",
      "<class 'str'>\n",
      "<class 'str'>\n",
      "<class 'str'>\n",
      "<class 'str'>\n",
      "<class 'str'>\n",
      "<class 'str'>\n",
      "<class 'str'>\n",
      "<class 'str'>\n",
      "<class 'str'>\n",
      "<class 'str'>\n"
     ]
    }
   ],
   "source": [
    "# Viewing the type of each variable\n",
    "for val in laptops[1]:\n",
    "    print(type(val))"
   ]
  },
  {
   "cell_type": "markdown",
   "metadata": {},
   "source": [
    "I will need to preprocess the data in order to answer the questions."
   ]
  },
  {
   "cell_type": "markdown",
   "metadata": {},
   "source": [
    "## Implementing the `Inventory()` Class\n",
    "\n",
    "Instead of preprocessing the data now, I will instead preprocess it as a class object.\n",
    "\n",
    "I will define a class `Inventory()`, make all preprocessing changes within this class, and define all attributes and methods that I will use to answer the questions and complete the tasks."
   ]
  },
  {
   "cell_type": "code",
   "execution_count": 7,
   "metadata": {},
   "outputs": [],
   "source": [
    "class Inventory():\n",
    "    \"\"\"\n",
    "    A class of Inventory data\n",
    "    \n",
    "    ...\n",
    "        \n",
    "    Attributes\n",
    "    ----------\n",
    "    header : list\n",
    "        The names of the columns\n",
    "        \n",
    "    rows : list\n",
    "        The list of laptops and their features\n",
    "        \n",
    "    id_to_row : dict\n",
    "        A dictionary with key : id, value : laptop row\n",
    "        \n",
    "    prices : set\n",
    "        The set of all unique laptop prices\n",
    "    \n",
    "    rows_by_price : list\n",
    "        The list of laptops and their features, ordered by price in ascending order\n",
    "    \n",
    "        \n",
    "    Methods\n",
    "    -------\n",
    "    __init__ (csv_filename)\n",
    "        Opens the csv file and preprocesses the data\n",
    "        \n",
    "    get_laptop_from_id (laptop_id)\n",
    "        Returns laptop from given id value\n",
    "        \n",
    "    get_laptop_from_id_fast (laptop_id)\n",
    "        Returns laptop from givein id value faster\n",
    "        \n",
    "    check_promotion_dollars (dollars)\n",
    "        Returns boolean indicating if \"dollars\" equals the price \n",
    "        of any 1 laptop or the sum of the prices of any 2 laptops\n",
    "        \n",
    "    check_promotion_dollars_fast (dollars)\n",
    "        Returns same boolean as mentioned above, but faster\n",
    "        \n",
    "    find_first_laptop_more_expensive (budget)\n",
    "        Binary search algorithm. Returns the most expensive laptop equal to or below a given price\n",
    "    \"\"\"\n",
    "    \n",
    "    def __init__(self, csv_filename):\n",
    "        \"\"\"Opens the inventory file.\n",
    "        \n",
    "        Preprocesses the data:\n",
    "        - Separates the header from the data rows\n",
    "        - Names the `id` column\n",
    "        - Makes the `price` and `id` columns integer-type\n",
    "        - Creates an id:row dictionary\n",
    "        - Creates a set of unique `prices`\n",
    "        - Sorts the rows by `price`.\n",
    "        \n",
    "        Parameters\n",
    "        ----------\n",
    "        csv_filename : str\n",
    "            The name of the csv inventory file\n",
    "        \"\"\"\n",
    "        # Opening the file with the proper encoding\n",
    "        with open(csv_filename, mode ='rb') as file: \n",
    "            raw_bytes = file.read()\n",
    "        \n",
    "        chardet_ = chardet.detect(raw_bytes)\n",
    "        encoding = chardet_['encoding'] \n",
    "        \n",
    "        with open(csv_filename, encoding=encoding) as file: \n",
    "            rows = list(csv.reader(file)) \n",
    "        \n",
    "        # Separating the header from the data rows\n",
    "        self.header = rows[0]\n",
    "        self.rows = rows[1:]\n",
    "        \n",
    "        # Naming the `id` and `price` column\n",
    "        self.header[0] = 'id'\n",
    "        self.header[-1] = 'price'\n",
    "        \n",
    "        # Making the `id` and `price` columns integer types\n",
    "        for row in self.rows:\n",
    "            row[0] = int(row[0])\n",
    "            row[-1] = int(float(row[-1]))\n",
    "            \n",
    "        # Creating the `id:row` dictionary and the `prices` set\n",
    "        self.id_to_row = {}\n",
    "        self.prices = set()\n",
    "            \n",
    "        for row in self.rows:\n",
    "            self.id_to_row[row[0]] = row\n",
    "            self.prices.add(row[-1])\n",
    "        \n",
    "        # Sorting the rows by `price`\n",
    "        self.rows_by_price = sorted(self.rows, key = lambda row: row[-1])\n",
    "    \n",
    "    # Return laptop and its features, given the laptop's id\n",
    "    def get_laptop_from_id(self, laptop_id):\n",
    "        \"\"\"Retrieves a laptop and its features given a laptop id\n",
    "        \n",
    "        Parameters\n",
    "        ----------\n",
    "        laptop_id : int\n",
    "            The id of the laptop\n",
    "        \n",
    "        Returns\n",
    "        -------\n",
    "            list\n",
    "        \"\"\"\n",
    "        for row in self.rows:    \n",
    "            if row[0] == laptop_id:\n",
    "                return row\n",
    "        return None\n",
    "    \n",
    "    # Performs the same task as the above, but faster, using a dictionary\n",
    "    def get_laptop_from_id_fast(self, laptop_id):\n",
    "        \"\"\"Retrieves a laptop and its features given a laptop id\n",
    "        \n",
    "        Parameters\n",
    "        ----------\n",
    "        laptop_id : int\n",
    "            The id of the laptop\n",
    "        \n",
    "        Returns\n",
    "        -------\n",
    "            list\n",
    "        \"\"\"\n",
    "        if laptop_id in self.id_to_row:\n",
    "            return self.id_to_row[laptop_id]\n",
    "        return None\n",
    "        \n",
    "    # Determine if a dollar amount equals price of any 1 laptop\n",
    "    # or the sum of the prices of any two laptops\n",
    "    def check_promotion_dollars(self, dollars):\n",
    "        \"\"\"Determines if a promotional dollar amount equals \n",
    "        the price of 1 laptop or the sum of the price of 2 laptops\n",
    "        \n",
    "        Parameters\n",
    "        ----------\n",
    "        dollars : int\n",
    "            The dollar amount for the promotional offer\n",
    "        \n",
    "        Returns\n",
    "        -------\n",
    "            bool\n",
    "        \"\"\"\n",
    "        for row in self.rows:  \n",
    "            if row[-1] == int(dollars):\n",
    "                return True\n",
    "            for other_row in self.rows:\n",
    "                if other_row[-1] + row[-1] == int(dollars):\n",
    "                    return True\n",
    "        return False\n",
    "    \n",
    "    # Performs the same task as the above, but faster, using sets\n",
    "    def check_promotion_dollars_fast(self, dollars):\n",
    "        \"\"\"Determines if a promotional dollar amount equals \n",
    "        the price of 1 laptop or the sum of the price of 2 laptops\n",
    "        \n",
    "        Parameters\n",
    "        ----------\n",
    "        dollars : int\n",
    "            The dollar amount for the promotional offer\n",
    "        \n",
    "        Returns\n",
    "        -------\n",
    "            bool\n",
    "        \"\"\"\n",
    "        if dollars in self.prices:\n",
    "            return True\n",
    "        for price in self.prices:\n",
    "            for other_price in self.prices:\n",
    "                total = price + other_price\n",
    "                if dollars == total:\n",
    "                    return True\n",
    "        return False\n",
    "    \n",
    "    # Returns the number of laptops that cost less than or equal to a certain price.\n",
    "    # Also returns the most expensive laptop under or equal to the same certain price\n",
    "    def find_best_laptop_within_budget(self, budget):\n",
    "        \"\"\"Prints the number of laptops that we have within a customer's given budget\n",
    "        \n",
    "        Returns the most expensive laptop that a customer can afford, given the customer's budget\n",
    "        \n",
    "        Parameters\n",
    "        ----------\n",
    "        budget : int\n",
    "            The budget of the customer, in dollars\n",
    "        \n",
    "        Returns\n",
    "        -------\n",
    "            list\n",
    "        \"\"\"\n",
    "        # Iterating through the binary search algorithm\n",
    "        range_start = 0\n",
    "        range_end = len(self.rows_by_price)\n",
    "        while range_start < range_end:\n",
    "            range_middle = (range_start + range_end) // 2\n",
    "            price_check = self.rows_by_price[range_middle][-1]\n",
    "            \n",
    "            # If budget == price in list, return that laptop\n",
    "            if budget == price_check:\n",
    "                top_laptop = range_middle + 1\n",
    "                laptops_in_budget = self.rows_by_price[:top_laptop]\n",
    "                print(\"There are {} laptops within your budget.\".format(len(laptops_in_budget)))\n",
    "                return laptops_in_budget[-1]\n",
    "            \n",
    "            # Updating the binary search range until range convergence \n",
    "            elif budget < price_check:\n",
    "                range_end = range_middle   \n",
    "            else:\n",
    "                range_start = range_middle + 1\n",
    "                \n",
    "        # After range convergence, return the most expensive laptop affordable\n",
    "        \n",
    "        # If budget <= price in list, then return the next lowest priced laptop\n",
    "        if budget <= self.rows_by_price[range_middle][-1]:\n",
    "            \n",
    "            if range_middle == 0:\n",
    "                return print(\"There are no laptops within your budget.\")\n",
    "                \n",
    "            top_laptop = range_middle\n",
    "            laptops_in_budget = self.rows_by_price[:top_laptop]\n",
    "            print(\"There are {} laptops within your budget.\".format(len(laptops_in_budget)))\n",
    "            return laptops_in_budget[-1]\n",
    "        \n",
    "        # If budget > price in list, then return that laptop\n",
    "        else:\n",
    "            top_laptop = range_middle + 1\n",
    "            \n",
    "            if top_laptop == 1:\n",
    "                laptop = self.rows_by_price[range_middle]\n",
    "                print(\"There is 1 laptop within your budget.\")\n",
    "                return laptop\n",
    "            \n",
    "            laptops_in_budget = self.rows_by_price[:top_laptop]\n",
    "            print(\"There are {} laptops within your budget.\".format(len(laptops_in_budget)))\n",
    "            return laptops_in_budget[-1]"
   ]
  },
  {
   "cell_type": "markdown",
   "metadata": {},
   "source": [
    "## Instantiating the `Inventory()` Class"
   ]
  },
  {
   "cell_type": "code",
   "execution_count": 8,
   "metadata": {},
   "outputs": [],
   "source": [
    "laptops = Inventory('laptops.csv')"
   ]
  },
  {
   "cell_type": "code",
   "execution_count": 9,
   "metadata": {},
   "outputs": [
    {
     "data": {
      "text/plain": [
       "['id',\n",
       " 'Company',\n",
       " 'Product',\n",
       " 'TypeName',\n",
       " 'Inches',\n",
       " 'ScreenResolution',\n",
       " 'Cpu',\n",
       " 'Ram',\n",
       " 'Memory',\n",
       " 'Gpu',\n",
       " 'OpSys',\n",
       " 'Weight',\n",
       " 'price']"
      ]
     },
     "execution_count": 9,
     "metadata": {},
     "output_type": "execute_result"
    }
   ],
   "source": [
    "# Viewing the laptops header\n",
    "laptops.header"
   ]
  },
  {
   "cell_type": "code",
   "execution_count": 10,
   "metadata": {},
   "outputs": [
    {
     "data": {
      "text/plain": [
       "1303"
      ]
     },
     "execution_count": 10,
     "metadata": {},
     "output_type": "execute_result"
    }
   ],
   "source": [
    "# Viewing the number of laptops in the dataset\n",
    "len(laptops.rows)"
   ]
  },
  {
   "cell_type": "markdown",
   "metadata": {},
   "source": [
    "## Finding a laptop given its ID\n",
    "\n",
    "We can search for a laptop in our list of lists, or in our `id:row` dictionary.\n",
    "\n",
    "We have two methods that can complete this task:\n",
    "\n",
    "* `get_laptop_from_id()` method, which has $time\\ complexity$ $= O(n)$ where $n =$ the number of rows.\n",
    "* `get_laptop_from_id_fast()` method, which has $time\\ complexity$ $= O(1)$, because it searches a dictionary object."
   ]
  },
  {
   "cell_type": "code",
   "execution_count": 11,
   "metadata": {},
   "outputs": [
    {
     "data": {
      "text/plain": [
       "[1300,\n",
       " 'HP',\n",
       " 'Stream 11-Y000na',\n",
       " 'Netbook',\n",
       " '11.6',\n",
       " '1366x768',\n",
       " 'Intel Celeron Dual Core N3060 1.6GHz',\n",
       " '2GB',\n",
       " '32GB Flash Storage',\n",
       " 'Intel HD Graphics 400',\n",
       " 'Windows 10',\n",
       " '1.17kg',\n",
       " 209]"
      ]
     },
     "execution_count": 11,
     "metadata": {},
     "output_type": "execute_result"
    }
   ],
   "source": [
    "# Using the list of lists method\n",
    "laptops.get_laptop_from_id(1300)"
   ]
  },
  {
   "cell_type": "code",
   "execution_count": 12,
   "metadata": {},
   "outputs": [
    {
     "data": {
      "text/plain": [
       "[1300,\n",
       " 'HP',\n",
       " 'Stream 11-Y000na',\n",
       " 'Netbook',\n",
       " '11.6',\n",
       " '1366x768',\n",
       " 'Intel Celeron Dual Core N3060 1.6GHz',\n",
       " '2GB',\n",
       " '32GB Flash Storage',\n",
       " 'Intel HD Graphics 400',\n",
       " 'Windows 10',\n",
       " '1.17kg',\n",
       " 209]"
      ]
     },
     "execution_count": 12,
     "metadata": {},
     "output_type": "execute_result"
    }
   ],
   "source": [
    "# Using the dictionary method\n",
    "laptops.get_laptop_from_id_fast(1300)"
   ]
  },
  {
   "cell_type": "markdown",
   "metadata": {},
   "source": [
    "### Comparing the Time Complexity\n",
    "\n",
    "Let's test how fast each method is.\n",
    "\n",
    "I will test each method on a list of $10,000$ random ID values."
   ]
  },
  {
   "cell_type": "code",
   "execution_count": 13,
   "metadata": {},
   "outputs": [],
   "source": [
    "# Generating a list of 10,000 random id numbers\n",
    "\n",
    "random_ids = [random.randint(0, 1320) for _ in range(10000)]"
   ]
  },
  {
   "cell_type": "code",
   "execution_count": 14,
   "metadata": {},
   "outputs": [],
   "source": [
    "# Timing the list of lists method\n",
    "\n",
    "total_time_no_dict = 0\n",
    "\n",
    "for random_id in random_ids:\n",
    "    \n",
    "    start = time.time()\n",
    "    laptops.get_laptop_from_id(random_id)\n",
    "    end = time.time()\n",
    "    total_time_no_dict += end - start"
   ]
  },
  {
   "cell_type": "code",
   "execution_count": 15,
   "metadata": {},
   "outputs": [],
   "source": [
    "# Timing the dictionary method\n",
    "\n",
    "total_time_dict = 0\n",
    "\n",
    "for random_id in random_ids:\n",
    "    \n",
    "    start = time.time()\n",
    "    laptops.get_laptop_from_id_fast(random_id)\n",
    "    end = time.time()\n",
    "    total_time_dict += end - start"
   ]
  },
  {
   "cell_type": "code",
   "execution_count": 16,
   "metadata": {},
   "outputs": [
    {
     "data": {
      "text/plain": [
       "0.3623933792114258"
      ]
     },
     "execution_count": 16,
     "metadata": {},
     "output_type": "execute_result"
    }
   ],
   "source": [
    "# Viewing the list of lists method results\n",
    "total_time_no_dict"
   ]
  },
  {
   "cell_type": "code",
   "execution_count": 17,
   "metadata": {},
   "outputs": [
    {
     "data": {
      "text/plain": [
       "0.004407405853271484"
      ]
     },
     "execution_count": 17,
     "metadata": {},
     "output_type": "execute_result"
    }
   ],
   "source": [
    "# Viewing the dictionary method results\n",
    "total_time_dict"
   ]
  },
  {
   "cell_type": "markdown",
   "metadata": {},
   "source": [
    "The dictionary method is approximately $100$ $times$ faster than the list of lists method."
   ]
  },
  {
   "cell_type": "markdown",
   "metadata": {},
   "source": [
    "## Checking promotional offer amounts\n",
    "\n",
    "We can check to see if a promotinal offer amount equals the price of one or two laptops using either of two methods:\n",
    "\n",
    "* `check_promotion_dollars()` method, which searches through every row in the dataset and uses a nested for loop. This method has $time\\ complexity$ $= O(n^2)$, where $n =$ the number of rows in the dataset.\n",
    "* `check_promotion_dollars_fast()` method, which searches through the set of unique price values from the dataset, and uses a nested for loop. This method has $time\\ complexity$ $= O(p^2)$ where $p =$ the number of unique price values from the dataset."
   ]
  },
  {
   "cell_type": "code",
   "execution_count": 18,
   "metadata": {},
   "outputs": [
    {
     "data": {
      "text/plain": [
       "True"
      ]
     },
     "execution_count": 18,
     "metadata": {},
     "output_type": "execute_result"
    }
   ],
   "source": [
    "# This should return `True`\n",
    "laptops.check_promotion_dollars(1000)"
   ]
  },
  {
   "cell_type": "code",
   "execution_count": 19,
   "metadata": {},
   "outputs": [
    {
     "data": {
      "text/plain": [
       "False"
      ]
     },
     "execution_count": 19,
     "metadata": {},
     "output_type": "execute_result"
    }
   ],
   "source": [
    "# This should return `False`\n",
    "laptops.check_promotion_dollars(442)"
   ]
  },
  {
   "cell_type": "code",
   "execution_count": 20,
   "metadata": {},
   "outputs": [
    {
     "data": {
      "text/plain": [
       "True"
      ]
     },
     "execution_count": 20,
     "metadata": {},
     "output_type": "execute_result"
    }
   ],
   "source": [
    "# This should return `True`\n",
    "laptops.check_promotion_dollars_fast(1000)"
   ]
  },
  {
   "cell_type": "code",
   "execution_count": 21,
   "metadata": {},
   "outputs": [
    {
     "data": {
      "text/plain": [
       "False"
      ]
     },
     "execution_count": 21,
     "metadata": {},
     "output_type": "execute_result"
    }
   ],
   "source": [
    "# This should return `False`\n",
    "laptops.check_promotion_dollars_fast(442)"
   ]
  },
  {
   "cell_type": "markdown",
   "metadata": {},
   "source": [
    "### Comparing the Time Complexity\n",
    "\n",
    "We can test how fast each method is.\n",
    "\n",
    "I will test each method on a list of $100$ random promotional offer values."
   ]
  },
  {
   "cell_type": "code",
   "execution_count": 22,
   "metadata": {},
   "outputs": [],
   "source": [
    "# Generating a list of 100 random promotional offer values\n",
    "\n",
    "random_prices = [random.randint(100, 5000) for i in range(100)]"
   ]
  },
  {
   "cell_type": "code",
   "execution_count": 23,
   "metadata": {},
   "outputs": [],
   "source": [
    "# Timing the datasets method\n",
    "\n",
    "total_time_no_set = 0\n",
    "\n",
    "for random_price in random_prices:\n",
    "    \n",
    "    start = time.time()\n",
    "    laptops.check_promotion_dollars(random_price)\n",
    "    end = time.time()\n",
    "    total_time_no_set += end - start"
   ]
  },
  {
   "cell_type": "code",
   "execution_count": 24,
   "metadata": {},
   "outputs": [],
   "source": [
    "# Timing the sets method\n",
    "\n",
    "total_time_set = 0\n",
    "\n",
    "for random_price in random_prices:\n",
    "    \n",
    "    start = time.time()\n",
    "    laptops.check_promotion_dollars_fast(random_price)\n",
    "    end = time.time()\n",
    "    total_time_set += end - start"
   ]
  },
  {
   "cell_type": "code",
   "execution_count": 25,
   "metadata": {},
   "outputs": [
    {
     "data": {
      "text/plain": [
       "2.6414265632629395"
      ]
     },
     "execution_count": 25,
     "metadata": {},
     "output_type": "execute_result"
    }
   ],
   "source": [
    "# Viewing the datasets method results\n",
    "total_time_no_set"
   ]
  },
  {
   "cell_type": "code",
   "execution_count": 26,
   "metadata": {},
   "outputs": [
    {
     "data": {
      "text/plain": [
       "0.31920766830444336"
      ]
     },
     "execution_count": 26,
     "metadata": {},
     "output_type": "execute_result"
    }
   ],
   "source": [
    "# Viewing the sets method results\n",
    "total_time_set"
   ]
  },
  {
   "cell_type": "markdown",
   "metadata": {},
   "source": [
    "The sets method is approximately $10$ $times$ faster than the datasets method."
   ]
  },
  {
   "cell_type": "markdown",
   "metadata": {},
   "source": [
    "## Finding the best laptop within a certain budget $D$\n",
    "\n",
    "We can use our `find_best_laptop_within_budget()` method to apply a binary search algorithm that determines which laptops we can afford on a certain budget. The `find_best_laptop_within_budget()` method returns how many laptops we can afford, and the most expensive laptop available, given a certain budget:"
   ]
  },
  {
   "cell_type": "code",
   "execution_count": 27,
   "metadata": {},
   "outputs": [
    {
     "name": "stdout",
     "output_type": "stream",
     "text": [
      "There are 683 laptops within your budget.\n"
     ]
    },
    {
     "data": {
      "text/plain": [
       "[1058,\n",
       " 'HP',\n",
       " 'EliteBook 840',\n",
       " 'Notebook',\n",
       " '14',\n",
       " 'Full HD 1920x1080',\n",
       " 'Intel Core i5 6200U 2.3GHz',\n",
       " '4GB',\n",
       " '500GB HDD',\n",
       " 'Intel HD Graphics 520',\n",
       " 'Windows 10',\n",
       " '1.54kg',\n",
       " 1000]"
      ]
     },
     "execution_count": 27,
     "metadata": {},
     "output_type": "execute_result"
    }
   ],
   "source": [
    "# Viewing how many laptops we can afford with a $1,000 budget\n",
    "# Viewing the most expensive laptop available with this budget\n",
    "laptops.find_best_laptop_within_budget(1000)"
   ]
  },
  {
   "cell_type": "code",
   "execution_count": 28,
   "metadata": {},
   "outputs": [
    {
     "name": "stdout",
     "output_type": "stream",
     "text": [
      "There are no laptops within your budget.\n"
     ]
    }
   ],
   "source": [
    "# Viewing how many laptops we can afford with a $100 budget\n",
    "laptops.find_best_laptop_within_budget(100)"
   ]
  },
  {
   "cell_type": "markdown",
   "metadata": {},
   "source": [
    "##  Conclusion\n",
    "\n",
    "In this project, we determined how much faster our algorithms run when we optimize time complexity. In one instance, our $O(1)$ algorithm ran $100\\ times$ faster than our $O(n)$ algorithm! This proves invaluable at scale.\n",
    "\n",
    "We also used a binary search algorithm to optimize the search query of which is the best laptop under a certain budget.\n",
    "\n",
    "### Next Steps:\n",
    "\n",
    "* Determine which laptops are available within a certain budget range.\n",
    "* Determine which laptops are available given certain feature specs, like amount of RAM, Memory, etc."
   ]
  },
  {
   "cell_type": "code",
   "execution_count": null,
   "metadata": {},
   "outputs": [],
   "source": []
  }
 ],
 "metadata": {
  "kernelspec": {
   "display_name": "Python 3",
   "language": "python",
   "name": "python3"
  },
  "language_info": {
   "codemirror_mode": {
    "name": "ipython",
    "version": 3
   },
   "file_extension": ".py",
   "mimetype": "text/x-python",
   "name": "python",
   "nbconvert_exporter": "python",
   "pygments_lexer": "ipython3",
   "version": "3.8.5"
  }
 },
 "nbformat": 4,
 "nbformat_minor": 4
}
